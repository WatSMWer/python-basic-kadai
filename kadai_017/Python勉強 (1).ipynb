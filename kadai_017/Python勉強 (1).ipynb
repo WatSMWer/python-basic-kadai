{
  "nbformat": 4,
  "nbformat_minor": 0,
  "metadata": {
    "colab": {
      "provenance": []
    },
    "kernelspec": {
      "name": "python3",
      "display_name": "Python 3"
    },
    "language_info": {
      "name": "python"
    }
  },
  "cells": [
    {
      "cell_type": "code",
      "source": [
        "class Human:\n",
        "    def __init__(self, name, age):\n",
        "        self.name = name\n",
        "        self.age = age\n",
        "    def check_adult(self):\n",
        "        if self.age >= 20:\n",
        "            print(f\"{self.name}は大人です。\")\n",
        "        else:\n",
        "            print(f\"{self.name}は大人ではないです。\")\n",
        "\n",
        "human1 = Human(\"一太郎\", 30)\n",
        "human2 = Human(\"二太郎\", 25)\n",
        "human3 = Human(\"三太郎\", 20)\n",
        "human4 = Human(\"四太郎\", 15)\n",
        "human5 = Human(\"五太郎\", 10)\n",
        "\n",
        "humans = []\n",
        "humans.append(human1)\n",
        "humans.append(human2)\n",
        "humans.append(human3)\n",
        "humans.append(human4)\n",
        "humans.append(human5)\n",
        "\n",
        "for human in humans:\n",
        "    human.check_adult()"
      ],
      "metadata": {
        "colab": {
          "base_uri": "https://localhost:8080/"
        },
        "id": "ERNy-a6nxUzk",
        "outputId": "4ca441fe-88eb-47e5-889f-60c3010a6c78"
      },
      "execution_count": 27,
      "outputs": [
        {
          "output_type": "stream",
          "name": "stdout",
          "text": [
            "一太郎は大人です。\n",
            "二太郎は大人です。\n",
            "三太郎は大人です。\n",
            "四太郎は大人ではないです。\n",
            "五太郎は大人ではないです。\n"
          ]
        }
      ]
    }
  ]
}