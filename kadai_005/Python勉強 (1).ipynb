{
  "nbformat": 4,
  "nbformat_minor": 0,
  "metadata": {
    "colab": {
      "provenance": []
    },
    "kernelspec": {
      "name": "python3",
      "display_name": "Python 3"
    },
    "language_info": {
      "name": "python"
    }
  },
  "cells": [
    {
      "cell_type": "code",
      "source": [
        "upper_base = 10 #上辺\n",
        "lower_base = 20 #下辺\n",
        "height = 5 #高さ\n",
        "\n",
        "#台形の面積\n",
        "area = (upper_base + lower_base) * height / 2\n",
        "\n",
        "print(str(area) + \"㎠\")"
      ],
      "metadata": {
        "colab": {
          "base_uri": "https://localhost:8080/"
        },
        "id": "eLDBvFglmDmj",
        "outputId": "378f8a13-ba9e-4f0c-df9c-4afb09f5957c"
      },
      "execution_count": 3,
      "outputs": [
        {
          "output_type": "stream",
          "name": "stdout",
          "text": [
            "75.0㎠\n"
          ]
        }
      ]
    }
  ]
}