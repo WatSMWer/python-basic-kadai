{
  "nbformat": 4,
  "nbformat_minor": 0,
  "metadata": {
    "colab": {
      "provenance": []
    },
    "kernelspec": {
      "name": "python3",
      "display_name": "Python 3"
    },
    "language_info": {
      "name": "python"
    }
  },
  "cells": [
    {
      "cell_type": "code",
      "source": [
        "upper_base = 10 #上辺\n",
        "lower_base = 20 #下辺\n",
        "height = 5 #高さ\n",
        "\n",
        "#台形の面積\n",
        "print(str((upper_base + lower_base) * height / 2) + \"㎠\")"
      ],
      "metadata": {
        "colab": {
          "base_uri": "https://localhost:8080/"
        },
        "id": "eLDBvFglmDmj",
        "outputId": "55e40a2f-7784-4e32-e8b3-586242d81103"
      },
      "execution_count": 37,
      "outputs": [
        {
          "output_type": "stream",
          "name": "stdout",
          "text": [
            "75.0㎠\n"
          ]
        }
      ]
    }
  ]
}