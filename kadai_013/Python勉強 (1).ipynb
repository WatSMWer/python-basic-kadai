{
  "nbformat": 4,
  "nbformat_minor": 0,
  "metadata": {
    "colab": {
      "provenance": []
    },
    "kernelspec": {
      "name": "python3",
      "display_name": "Python 3"
    },
    "language_info": {
      "name": "python"
    }
  },
  "cells": [
    {
      "cell_type": "code",
      "source": [
        "def calculate_total_price(product_price: int, tax_rate: int) -> float:\n",
        "\n",
        "    total_price_with_tax = product_price + (product_price * tax_rate / 100)\n",
        "\n",
        "    return total_price_with_tax\n",
        "\n",
        "product_price = 110\n",
        "tax_rate = 10\n",
        "\n",
        "total_price = calculate_total_price(product_price, tax_rate)\n",
        "\n",
        "print(f\"{total_price}円\")"
      ],
      "metadata": {
        "colab": {
          "base_uri": "https://localhost:8080/"
        },
        "id": "6Nec8Y4iasYF",
        "outputId": "d6e7571a-fb15-4242-8611-0140e15c8fc6"
      },
      "execution_count": 19,
      "outputs": [
        {
          "output_type": "stream",
          "name": "stdout",
          "text": [
            "121.0円\n"
          ]
        }
      ]
    }
  ]
}